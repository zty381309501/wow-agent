{
 "cells": [
  {
   "cell_type": "code",
   "execution_count": null,
   "metadata": {},
   "outputs": [],
   "source": [
    "import asyncio\n",
    "import platform\n",
    "from typing import Any\n",
    "\n",
    "import fire\n",
    "\n",
    "from metagpt.actions import Action, UserRequirement\n",
    "from metagpt.logs import logger\n",
    "from metagpt.roles import Role\n",
    "from metagpt.schema import Message\n",
    "from metagpt.team import Team\n",
    "import asyncio\n",
    "from metagpt.actions import Action\n",
    "from metagpt.actions.add_requirement import UserRequirement\n",
    "from metagpt.schema import Message"
   ]
  },
  {
   "cell_type": "code",
   "execution_count": 2,
   "metadata": {},
   "outputs": [],
   "source": [
    "from typing import ClassVar\n",
    "class SpeakAloud(Action):\n",
    "    \"\"\"动作：在辩论中大声说话（争吵）\"\"\"\n",
    "\n",
    "    PROMPT_TEMPLATE: ClassVar[str] =  \"\"\"\n",
    "    ## BACKGROUND\n",
    "    Suppose you are {name}, you are in a debate with {opponent_name}.\n",
    "    ## DEBATE HISTORY\n",
    "    Previous rounds:\n",
    "    {context}\n",
    "    ## YOUR TURN\n",
    "    Now it's your turn, you should closely respond to your opponent's latest argument, state your position, defend your arguments, and attack your opponent's arguments,\n",
    "    craft a strong and emotional response in 80 words, in {name}'s rhetoric and viewpoints, your will argue:\n",
    "    \"\"\"\n",
    "\n",
    "    def __init__(self, name=\"SpeakAloud\", context=None, llm=None):\n",
    "        super().__init__(name, context, llm)\n",
    "\n",
    "    async def run(self, context: str, name: str, opponent_name: str):\n",
    "\n",
    "        prompt = self.PROMPT_TEMPLATE.format(context=context, name=name, opponent_name=opponent_name)\n",
    "\n",
    "        rsp = await self._aask(prompt)\n",
    "\n",
    "        return rsp"
   ]
  },
  {
   "cell_type": "code",
   "execution_count": 3,
   "metadata": {},
   "outputs": [],
   "source": [
    "class Debator(Role):\n",
    "    def __init__(\n",
    "        self,\n",
    "        name: str,\n",
    "        profile: str,\n",
    "        opponent_name: str,\n",
    "        **kwargs,\n",
    "    ):\n",
    "        super().__init__(name, profile, **kwargs)\n",
    "        self.set_actions([SpeakAloud])\n",
    "        self._watch([UserRequirement, SpeakAloud])\n",
    "        self.name = name\n",
    "        self.opponent_name = opponent_name"
   ]
  },
  {
   "cell_type": "code",
   "execution_count": 4,
   "metadata": {},
   "outputs": [],
   "source": [
    "async def _observe(self) -> int:\n",
    "        await super()._observe()\n",
    "        # accept messages sent (from opponent) to self, disregard own messages from the last round\n",
    "        self.rc.news = [msg for msg in self.rc.news if msg.send_to == self.name]\n",
    "        return len(self.rc.news)"
   ]
  },
  {
   "cell_type": "code",
   "execution_count": 5,
   "metadata": {},
   "outputs": [],
   "source": [
    "async def _act(self) -> Message:\n",
    "    logger.info(f\"{self._setting}: ready to {self.rc.todo}\")\n",
    "    todo = self.rc.todo # 一个 SpeakAloud 的实例\n",
    "\n",
    "    memories = self.get_memories()\n",
    "    context = \"\\n\".join(f\"{msg.sent_from}: {msg.content}\" for msg in memories)\n",
    "\n",
    "    rsp = await todo.run(context=context, name=self.name, opponent_name=self.opponent_name)\n",
    "\n",
    "    msg = Message(\n",
    "        content=rsp,\n",
    "        role=self.profile,\n",
    "        cause_by=todo,\n",
    "        sent_from=self.name,\n",
    "        send_to=self.opponent_name,\n",
    "    )\n",
    "    self.rc.memory.add(msg)\n",
    "    return msg"
   ]
  },
  {
   "cell_type": "code",
   "execution_count": null,
   "metadata": {},
   "outputs": [],
   "source": [
    "async def debate(idea: str, investment: float = 3.0, n_round: int = 5):\n",
    "    \"\"\"运行拜登-特朗普辩论，观看他们之间的友好对话 :) \"\"\"\n",
    "    Biden = Debator(name=\"Biden\", profile=\"Democrat\", opponent_name=\"Trump\")\n",
    "    Trump = Debator(name=\"Trump\", profile=\"Republican\", opponent_name=\"Biden\")\n",
    "    team = Team()\n",
    "    team.hire([Biden, Trump])\n",
    "    team.invest(investment)\n",
    "    team.run_project(idea, send_to=\"Biden\")  # 将辩论主题发送给拜登，让他先说话\n",
    "    await team.run(n_round=n_round)\n",
    "\n",
    "\n",
    "import typer\n",
    "app = typer.Typer()\n",
    "\n",
    "@app.command()\n",
    "def main(\n",
    "    idea: str = typer.Argument(..., help=\"Economic Policy: Discuss strategies and plans related to taxation, employment, fiscal budgeting, and economic growth.\"),\n",
    "    investment: float = typer.Option(default=3.0, help=\"Dollar amount to invest in the AI company.\"),\n",
    "    n_round: int = typer.Option(default=5, help=\"Number of rounds for the simulation.\"),\n",
    "):\n",
    "    \"\"\"\n",
    "    :param idea: Debate topic, such as \"Topic: The U.S. should commit more in climate change fighting\"\n",
    "                 or \"Trump: Climate change is a hoax\"\n",
    "    :param investment: contribute a certain dollar amount to watch the debate\n",
    "    :param n_round: maximum rounds of the debate\n",
    "    :return:\n",
    "    \"\"\"\n",
    "    if platform.system() == \"Windows\":\n",
    "        asyncio.set_event_loop_policy(asyncio.WindowsSelectorEventLoopPolicy())\n",
    "    asyncio.run(debate(idea, investment, n_round))\n",
    "\n",
    "# if __name__ == '__main__':\n",
    "    # app()# run as python debate.py --idea=\"TOPIC\" --investment=3.0 --n_round=5"
   ]
  },
  {
   "cell_type": "code",
   "execution_count": null,
   "metadata": {},
   "outputs": [],
   "source": [
    "main()"
   ]
  }
 ],
 "metadata": {
  "kernelspec": {
   "display_name": "wow-agent",
   "language": "python",
   "name": "python3"
  },
  "language_info": {
   "codemirror_mode": {
    "name": "ipython",
    "version": 3
   },
   "file_extension": ".py",
   "mimetype": "text/x-python",
   "name": "python",
   "nbconvert_exporter": "python",
   "pygments_lexer": "ipython3",
   "version": "3.11.11"
  }
 },
 "nbformat": 4,
 "nbformat_minor": 2
}
