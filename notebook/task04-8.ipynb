{
 "cells": [
  {
   "cell_type": "code",
   "execution_count": 1,
   "metadata": {},
   "outputs": [
    {
     "name": "stderr",
     "output_type": "stream",
     "text": [
      "2025-01-24 11:26:01.729 | INFO     | metagpt.const:get_metagpt_package_root:29 - Package root set to e:\\wow-agent\\notebook\n"
     ]
    }
   ],
   "source": [
    "import asyncio\n",
    "\n",
    "from metagpt.actions import Action, UserRequirement\n",
    "from metagpt.logs import logger\n",
    "from metagpt.roles import Role\n",
    "from metagpt.schema import Message\n",
    "from metagpt.environment import Environment\n",
    "\n",
    "from metagpt.const import MESSAGE_ROUTE_TO_ALL"
   ]
  },
  {
   "cell_type": "code",
   "execution_count": 2,
   "metadata": {},
   "outputs": [],
   "source": [
    "classroom = Environment()"
   ]
  },
  {
   "cell_type": "code",
   "execution_count": 3,
   "metadata": {},
   "outputs": [],
   "source": [
    "class Student(Role):\n",
    "\n",
    "    name: str = \"xiaoming\"\n",
    "    profile: str = \"Student\"\n",
    "\n",
    "    def __init__(self, **kwargs):\n",
    "        super().__init__(**kwargs)\n",
    "        self.set_actions([WritePoem])\n",
    "        self._watch([UserRequirement, ReviewPoem])\n",
    "\n",
    "    async def _act(self) -> Message:\n",
    "        logger.info(f\"{self._setting}: ready to {self.rc.todo}\")\n",
    "        todo = self.rc.todo\n",
    "\n",
    "        msg = self.get_memories()  # 获取所有记忆\n",
    "        # logger.info(msg)\n",
    "        poem_text = await WritePoem().run(msg)\n",
    "        logger.info(f'student : {poem_text}')\n",
    "        msg = Message(content=poem_text, role=self.profile,\n",
    "                      cause_by=type(todo))\n",
    "\n",
    "        return msg\n",
    "\n",
    "class Teacher(Role):\n",
    "\n",
    "    name: str = \"laowang\"\n",
    "    profile: str = \"Teacher\"\n",
    "\n",
    "    def __init__(self, **kwargs):\n",
    "        super().__init__(**kwargs)\n",
    "        self.set_actions([ReviewPoem])\n",
    "        self._watch([WritePoem])\n",
    "\n",
    "    async def _act(self) -> Message:\n",
    "        logger.info(f\"{self._setting}: ready to {self.rc.todo}\")\n",
    "        todo = self.rc.todo\n",
    "\n",
    "        msg = self.get_memories()  # 获取所有记忆\n",
    "        poem_text = await ReviewPoem().run(msg)\n",
    "        logger.info(f'teacher : {poem_text}')\n",
    "        msg = Message(content=poem_text, role=self.profile,\n",
    "                      cause_by=type(todo))\n",
    "\n",
    "        return msg\n"
   ]
  },
  {
   "cell_type": "code",
   "execution_count": 4,
   "metadata": {},
   "outputs": [],
   "source": [
    "class WritePoem(Action):\n",
    "\n",
    "    name: str = \"WritePoem\"\n",
    "\n",
    "    PROMPT_TEMPLATE: str = \"\"\"\n",
    "    Here is the historical conversation record : {msg} .\n",
    "    Write a poem about the subject provided by human, Return only the content of the generated poem with NO other texts.\n",
    "    If the teacher provides suggestions about the poem, revise the student's poem based on the suggestions and return.\n",
    "    your poem:\n",
    "    \"\"\"\n",
    "\n",
    "    async def run(self, msg: str):\n",
    "\n",
    "        prompt = self.PROMPT_TEMPLATE.format(msg = msg)\n",
    "\n",
    "        rsp = await self._aask(prompt)\n",
    "\n",
    "        return rsp\n",
    "\n",
    "class ReviewPoem(Action):\n",
    "\n",
    "    name: str = \"ReviewPoem\"\n",
    "\n",
    "    PROMPT_TEMPLATE: str = \"\"\"\n",
    "\n",
    "    Here is the historical conversation record : {msg} .\n",
    "    Check student-created poems about the subject provided by human and give your suggestions for revisions. You prefer poems with elegant sentences and retro style.\n",
    "    Return only your comments with NO other texts.\n",
    "    your comments:\n",
    "    \"\"\"\n",
    "\n",
    "    async def run(self, msg: str):\n",
    "\n",
    "        prompt = self.PROMPT_TEMPLATE.format(msg = msg)\n",
    "\n",
    "        rsp = await self._aask(prompt)\n",
    "\n",
    "        return rsp"
   ]
  },
  {
   "cell_type": "code",
   "execution_count": 5,
   "metadata": {},
   "outputs": [
    {
     "name": "stderr",
     "output_type": "stream",
     "text": [
      "2025-01-24 11:26:06.092 | INFO     | __main__:_act:12 - xiaoming(Student): ready to WritePoem\n"
     ]
    },
    {
     "name": "stdout",
     "output_type": "stream",
     "text": [
      "春回大地蛇年到，  \n",
      "审计新篇待书写。  \n",
      "旧账清算迎新春，  \n",
      "舞动长蛇展宏图。\n",
      "\n",
      "数字间寻真相，  \n",
      "报表中见真章。  \n",
      "往昔错漏皆成过，  \n",
      "今朝审计铸辉煌。\n",
      "\n",
      "蛇年春风送暖意，  \n",
      "审计人心向阳光。  \n",
      "携手共进新时代，  \n",
      "蛇舞审计映辉煌。\n",
      "Warning: model not found. Using cl100k_base encoding.\n"
     ]
    },
    {
     "name": "stderr",
     "output_type": "stream",
     "text": [
      "2025-01-24 11:26:07.886 | WARNING  | metagpt.provider.openai_api:_calc_usage:244 - usage calculation failed: num_tokens_from_messages() is not implemented for model Qwen2.5-32B-Instruct-AWQ. See https://cookbook.openai.com/examples/how_to_count_tokens_with_tiktoken for information on how messages are converted to tokens.\n",
      "2025-01-24 11:26:07.888 | INFO     | metagpt.utils.cost_manager:update_cost:108 - prompt_tokens: 0, completion_tokens: 0\n",
      "2025-01-24 11:26:07.889 | INFO     | __main__:_act:18 - student : 春回大地蛇年到，  \n",
      "审计新篇待书写。  \n",
      "旧账清算迎新春，  \n",
      "舞动长蛇展宏图。\n",
      "\n",
      "数字间寻真相，  \n",
      "报表中见真章。  \n",
      "往昔错漏皆成过，  \n",
      "今朝审计铸辉煌。\n",
      "\n",
      "蛇年春风送暖意，  \n",
      "审计人心向阳光。  \n",
      "携手共进新时代，  \n",
      "蛇舞审计映辉煌。\n",
      "2025-01-24 11:26:07.891 | INFO     | __main__:_act:35 - laowang(Teacher): ready to ReviewPoem\n"
     ]
    },
    {
     "name": "stdout",
     "output_type": "stream",
     "text": [
      "这首诗展现了审计工作的严谨与新年的希望，但为了更符合典雅与复古的风格，可以考虑以下修改建议：\n",
      "\n",
      "- 将“审计新篇待书写”改为“审计新篇待铺展”，以增加古风韵味。\n",
      "- 将“旧账清算迎新春”改为“旧账清算迎春归”，以增加诗意。\n",
      "- 将“舞动长蛇展宏图”改为“长蛇舞动展宏图”，使句子更加流畅。\n",
      "- 将“往昔错漏皆成过”改为“往昔错漏皆成昨”，以增加古风韵味。\n",
      "- 将“今朝审计铸辉煌”改为“今朝审计铸华章”，以增加诗意。\n",
      "- 将“蛇年春风送暖意”改为“蛇年春风送暖意，蛇舞轻盈报佳音”，以增加画面感。\n",
      "- 将“审计人心向阳光”改为“审计人心向阳春”，以增加诗意。\n",
      "- 将“携手共进新时代”改为“携手共进新时代，审计春风暖人心”，以增加画面感。\n",
      "\n",
      "修改后的诗歌如下：\n",
      "春回大地蛇年到，\n",
      "审计新篇待铺展。\n",
      "旧账清算迎春归，\n",
      "长蛇舞动展宏图。\n",
      "\n",
      "数字间寻真相，\n",
      "报表中见真章。\n",
      "往昔错漏皆成昨，\n",
      "今朝审计铸华章。\n",
      "\n",
      "蛇年春风送暖意，蛇舞轻盈报佳音，\n",
      "审计人心向阳春"
     ]
    },
    {
     "name": "stderr",
     "output_type": "stream",
     "text": [
      "2025-01-24 11:26:12.692 | WARNING  | metagpt.provider.openai_api:_calc_usage:244 - usage calculation failed: num_tokens_from_messages() is not implemented for model Qwen2.5-32B-Instruct-AWQ. See https://cookbook.openai.com/examples/how_to_count_tokens_with_tiktoken for information on how messages are converted to tokens.\n",
      "2025-01-24 11:26:12.692 | INFO     | metagpt.utils.cost_manager:update_cost:108 - prompt_tokens: 0, completion_tokens: 0\n",
      "2025-01-24 11:26:12.693 | INFO     | __main__:_act:40 - teacher : 这首诗展现了审计工作的严谨与新年的希望，但为了更符合典雅与复古的风格，可以考虑以下修改建议：\n",
      "\n",
      "- 将“审计新篇待书写”改为“审计新篇待铺展”，以增加古风韵味。\n",
      "- 将“旧账清算迎新春”改为“旧账清算迎春归”，以增加诗意。\n",
      "- 将“舞动长蛇展宏图”改为“长蛇舞动展宏图”，使句子更加流畅。\n",
      "- 将“往昔错漏皆成过”改为“往昔错漏皆成昨”，以增加古风韵味。\n",
      "- 将“今朝审计铸辉煌”改为“今朝审计铸华章”，以增加诗意。\n",
      "- 将“蛇年春风送暖意”改为“蛇年春风送暖意，蛇舞轻盈报佳音”，以增加画面感。\n",
      "- 将“审计人心向阳光”改为“审计人心向阳春”，以增加诗意。\n",
      "- 将“携手共进新时代”改为“携手共进新时代，审计春风暖人心”，以增加画面感。\n",
      "\n",
      "修改后的诗歌如下：\n",
      "春回大地蛇年到，\n",
      "审计新篇待铺展。\n",
      "旧账清算迎春归，\n",
      "长蛇舞动展宏图。\n",
      "\n",
      "数字间寻真相，\n",
      "报表中见真章。\n",
      "往昔错漏皆成昨，\n",
      "今朝审计铸华章。\n",
      "\n",
      "蛇年春风送暖意，蛇舞轻盈报佳音，\n",
      "审计人心向阳春。\n",
      "携手共进新时代，审计春风暖人心。\n",
      "2025-01-24 11:26:12.696 | INFO     | __main__:_act:12 - xiaoming(Student): ready to WritePoem\n"
     ]
    },
    {
     "name": "stdout",
     "output_type": "stream",
     "text": [
      "。\n",
      "携手共进新时代，审计春风暖人心。\n",
      "Warning: model not found. Using cl100k_base encoding.\n",
      "春回大地蛇年到，  \n",
      "审计新篇待铺展。  \n",
      "旧账清算迎春归，  \n",
      "长蛇舞动展宏图。\n",
      "\n",
      "数字间寻真相，  \n",
      "报表中见真章。  \n",
      "往昔错漏皆成昨，  \n",
      "今朝审计铸华章。\n",
      "\n",
      "蛇年春风送暖意，蛇舞轻盈报佳音，  \n",
      "审计人心向阳春。  \n",
      "携手共进新时代，审计春风暖人心"
     ]
    },
    {
     "name": "stderr",
     "output_type": "stream",
     "text": [
      "2025-01-24 11:26:14.701 | WARNING  | metagpt.provider.openai_api:_calc_usage:244 - usage calculation failed: num_tokens_from_messages() is not implemented for model Qwen2.5-32B-Instruct-AWQ. See https://cookbook.openai.com/examples/how_to_count_tokens_with_tiktoken for information on how messages are converted to tokens.\n",
      "2025-01-24 11:26:14.702 | INFO     | metagpt.utils.cost_manager:update_cost:108 - prompt_tokens: 0, completion_tokens: 0\n",
      "2025-01-24 11:26:14.703 | INFO     | __main__:_act:18 - student : 春回大地蛇年到，  \n",
      "审计新篇待铺展。  \n",
      "旧账清算迎春归，  \n",
      "长蛇舞动展宏图。\n",
      "\n",
      "数字间寻真相，  \n",
      "报表中见真章。  \n",
      "往昔错漏皆成昨，  \n",
      "今朝审计铸华章。\n",
      "\n",
      "蛇年春风送暖意，蛇舞轻盈报佳音，  \n",
      "审计人心向阳春。  \n",
      "携手共进新时代，审计春风暖人心。\n"
     ]
    },
    {
     "name": "stdout",
     "output_type": "stream",
     "text": [
      "。\n",
      "Warning: model not found. Using cl100k_base encoding.\n"
     ]
    },
    {
     "data": {
      "text/plain": [
       "'\\nHuman: 写一副2025年农历蛇年写一首审计工作的辞旧迎新的诗歌\\nStudent: 春回大地蛇年到，  \\n审计新篇待书写。  \\n旧账清算迎新春，  \\n舞动长蛇展宏图。\\n\\n数字间寻真相，  \\n报表中见真章。  \\n往昔错漏皆成过，  \\n今朝审计铸辉煌。\\n\\n蛇年春风送暖意，  \\n审计人心向阳光。  \\n携手共进新时代，  \\n蛇舞审计映辉煌。\\nTeacher: 这首诗展现了审计工作的严谨与新年的希望，但为了更符合典雅与复古的风格，可以考虑以下修改建议：\\n\\n- 将“审计新篇待书写”改为“审计新篇待铺展”，以增加古风韵味。\\n- 将“旧账清算迎新春”改为“旧账清算迎春归”，以增加诗意。\\n- 将“舞动长蛇展宏图”改为“长蛇舞动展宏图”，使句子更加流畅。\\n- 将“往昔错漏皆成过”改为“往昔错漏皆成昨”，以增加古风韵味。\\n- 将“今朝审计铸辉煌”改为“今朝审计铸华章”，以增加诗意。\\n- 将“蛇年春风送暖意”改为“蛇年春风送暖意，蛇舞轻盈报佳音”，以增加画面感。\\n- 将“审计人心向阳光”改为“审计人心向阳春”，以增加诗意。\\n- 将“携手共进新时代”改为“携手共进新时代，审计春风暖人心”，以增加画面感。\\n\\n修改后的诗歌如下：\\n春回大地蛇年到，\\n审计新篇待铺展。\\n旧账清算迎春归，\\n长蛇舞动展宏图。\\n\\n数字间寻真相，\\n报表中见真章。\\n往昔错漏皆成昨，\\n今朝审计铸华章。\\n\\n蛇年春风送暖意，蛇舞轻盈报佳音，\\n审计人心向阳春。\\n携手共进新时代，审计春风暖人心。\\nStudent: 春回大地蛇年到，  \\n审计新篇待铺展。  \\n旧账清算迎春归，  \\n长蛇舞动展宏图。\\n\\n数字间寻真相，  \\n报表中见真章。  \\n往昔错漏皆成昨，  \\n今朝审计铸华章。\\n\\n蛇年春风送暖意，蛇舞轻盈报佳音，  \\n审计人心向阳春。  \\n携手共进新时代，审计春风暖人心。'"
      ]
     },
     "execution_count": 5,
     "metadata": {},
     "output_type": "execute_result"
    }
   ],
   "source": [
    "async def main(topic: str, n_round=3):\n",
    "\n",
    "    classroom.add_roles([Student(), Teacher()])\n",
    "\n",
    "    classroom.publish_message(\n",
    "        Message(role=\"Human\", content=topic, cause_by=UserRequirement,\n",
    "                send_to='' or MESSAGE_ROUTE_TO_ALL),\n",
    "        peekable=False,\n",
    "    )\n",
    "\n",
    "    while n_round > 0:\n",
    "        # self._save()\n",
    "        n_round -= 1 #如果n_round = 1 ，就只有学生写诗、然后老师没办法进行review\n",
    "        logger.debug(f\"max {n_round=} left.\")\n",
    "\n",
    "        await classroom.run()\n",
    "    return classroom.history\n",
    "\n",
    "await main(topic='写一副2025年农历蛇年写一首审计工作的辞旧迎新的诗歌')"
   ]
  }
 ],
 "metadata": {
  "kernelspec": {
   "display_name": "wow-agent",
   "language": "python",
   "name": "python3"
  },
  "language_info": {
   "codemirror_mode": {
    "name": "ipython",
    "version": 3
   },
   "file_extension": ".py",
   "mimetype": "text/x-python",
   "name": "python",
   "nbconvert_exporter": "python",
   "pygments_lexer": "ipython3",
   "version": "3.11.11"
  }
 },
 "nbformat": 4,
 "nbformat_minor": 2
}
