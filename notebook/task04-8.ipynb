{
 "cells": [
  {
   "cell_type": "code",
   "execution_count": 1,
   "metadata": {},
   "outputs": [
    {
     "name": "stderr",
     "output_type": "stream",
     "text": [
      "2025-01-24 10:49:24.811 | INFO     | metagpt.const:get_metagpt_package_root:29 - Package root set to e:\\wow-agent\\notebook\n"
     ]
    }
   ],
   "source": [
    "import asyncio\n",
    "\n",
    "from metagpt.actions import Action, UserRequirement\n",
    "from metagpt.logs import logger\n",
    "from metagpt.roles import Role\n",
    "from metagpt.schema import Message\n",
    "from metagpt.environment import Environment\n",
    "\n",
    "from metagpt.const import MESSAGE_ROUTE_TO_ALL"
   ]
  },
  {
   "cell_type": "code",
   "execution_count": 2,
   "metadata": {},
   "outputs": [],
   "source": [
    "classroom = Environment()"
   ]
  },
  {
   "cell_type": "code",
   "execution_count": 3,
   "metadata": {},
   "outputs": [],
   "source": [
    "class Student(Role):\n",
    "\n",
    "    name: str = \"xiaoming\"\n",
    "    profile: str = \"Student\"\n",
    "\n",
    "    def __init__(self, **kwargs):\n",
    "        super().__init__(**kwargs)\n",
    "        self.set_actions([WritePoem])\n",
    "        self._watch([UserRequirement, ReviewPoem])\n",
    "\n",
    "    async def _act(self) -> Message:\n",
    "        logger.info(f\"{self._setting}: ready to {self.rc.todo}\")\n",
    "        todo = self.rc.todo\n",
    "\n",
    "        msg = self.get_memories()  # 获取所有记忆\n",
    "        # logger.info(msg)\n",
    "        poem_text = await WritePoem().run(msg)\n",
    "        logger.info(f'student : {poem_text}')\n",
    "        msg = Message(content=poem_text, role=self.profile,\n",
    "                      cause_by=type(todo))\n",
    "\n",
    "        return msg\n",
    "\n",
    "class Teacher(Role):\n",
    "\n",
    "    name: str = \"laowang\"\n",
    "    profile: str = \"Teacher\"\n",
    "\n",
    "    def __init__(self, **kwargs):\n",
    "        super().__init__(**kwargs)\n",
    "        self.set_actions([ReviewPoem])\n",
    "        self._watch([WritePoem])\n",
    "\n",
    "    async def _act(self) -> Message:\n",
    "        logger.info(f\"{self._setting}: ready to {self.rc.todo}\")\n",
    "        todo = self.rc.todo\n",
    "\n",
    "        msg = self.get_memories()  # 获取所有记忆\n",
    "        poem_text = await ReviewPoem().run(msg)\n",
    "        logger.info(f'teacher : {poem_text}')\n",
    "        msg = Message(content=poem_text, role=self.profile,\n",
    "                      cause_by=type(todo))\n",
    "\n",
    "        return msg\n"
   ]
  },
  {
   "cell_type": "code",
   "execution_count": 4,
   "metadata": {},
   "outputs": [],
   "source": [
    "class WritePoem(Action):\n",
    "\n",
    "    name: str = \"WritePoem\"\n",
    "\n",
    "    PROMPT_TEMPLATE: str = \"\"\"\n",
    "    Here is the historical conversation record : {msg} .\n",
    "    Write a poem about the subject provided by human, Return only the content of the generated poem with NO other texts.\n",
    "    If the teacher provides suggestions about the poem, revise the student's poem based on the suggestions and return.\n",
    "    your poem:\n",
    "    \"\"\"\n",
    "\n",
    "    async def run(self, msg: str):\n",
    "\n",
    "        prompt = self.PROMPT_TEMPLATE.format(msg = msg)\n",
    "\n",
    "        rsp = await self._aask(prompt)\n",
    "\n",
    "        return rsp\n",
    "\n",
    "class ReviewPoem(Action):\n",
    "\n",
    "    name: str = \"ReviewPoem\"\n",
    "\n",
    "    PROMPT_TEMPLATE: str = \"\"\"\n",
    "\n",
    "    Here is the historical conversation record : {msg} .\n",
    "    Check student-created poems about the subject provided by human and give your suggestions for revisions. You prefer poems with elegant sentences and retro style.\n",
    "    Return only your comments with NO other texts.\n",
    "    your comments:\n",
    "    \"\"\"\n",
    "\n",
    "    async def run(self, msg: str):\n",
    "\n",
    "        prompt = self.PROMPT_TEMPLATE.format(msg = msg)\n",
    "\n",
    "        rsp = await self._aask(prompt)\n",
    "\n",
    "        return rsp"
   ]
  },
  {
   "cell_type": "code",
   "execution_count": 8,
   "metadata": {},
   "outputs": [
    {
     "name": "stderr",
     "output_type": "stream",
     "text": [
      "2025-01-24 10:52:39.765 | INFO     | __main__:_act:12 - xiaoming(Student): ready to WritePoem\n"
     ]
    },
    {
     "name": "stdout",
     "output_type": "stream",
     "text": [
      "上联：金蛇狂舞迎春至  \n",
      "下联：玉兔欢歌送岁归  \n",
      "\n",
      "横批：蛇兔交替春常在"
     ]
    },
    {
     "name": "stderr",
     "output_type": "stream",
     "text": [
      "2025-01-24 10:52:40.587 | WARNING  | metagpt.provider.openai_api:_calc_usage:244 - usage calculation failed: num_tokens_from_messages() is not implemented for model Qwen2.5-32B-Instruct-AWQ. See https://cookbook.openai.com/examples/how_to_count_tokens_with_tiktoken for information on how messages are converted to tokens.\n",
      "2025-01-24 10:52:40.588 | INFO     | metagpt.utils.cost_manager:update_cost:108 - prompt_tokens: 0, completion_tokens: 0\n",
      "2025-01-24 10:52:40.589 | INFO     | __main__:_act:18 - student : 上联：金蛇狂舞迎春至  \n",
      "下联：玉兔欢歌送岁归  \n",
      "\n",
      "横批：蛇兔交替春常在\n",
      "2025-01-24 10:52:40.590 | INFO     | __main__:_act:35 - laowang(Teacher): ready to ReviewPoem\n"
     ]
    },
    {
     "name": "stdout",
     "output_type": "stream",
     "text": [
      "\n",
      "Warning: model not found. Using cl100k_base encoding.\n",
      "学生所作对联已颇具巧思，但可进一步追求典雅与古风。建议如下：\n",
      "\n",
      "上联：金蛇婉转迎春至\n",
      "下联：玉兔轻歌送岁归\n",
      "\n",
      "横批：蛇兔相承春永驻\n",
      "\n",
      "改动之处在于“婉转”与“轻歌”更添几分古雅之气，“相承”与“"
     ]
    },
    {
     "name": "stderr",
     "output_type": "stream",
     "text": [
      "2025-01-24 10:52:42.164 | WARNING  | metagpt.provider.openai_api:_calc_usage:244 - usage calculation failed: num_tokens_from_messages() is not implemented for model Qwen2.5-32B-Instruct-AWQ. See https://cookbook.openai.com/examples/how_to_count_tokens_with_tiktoken for information on how messages are converted to tokens.\n"
     ]
    },
    {
     "name": "stdout",
     "output_type": "stream",
     "text": [
      "永驻”亦使横批更显庄重与深远。\n",
      "Warning: model not found. Using cl100k_base encoding.\n"
     ]
    },
    {
     "name": "stderr",
     "output_type": "stream",
     "text": [
      "2025-01-24 10:52:42.166 | INFO     | metagpt.utils.cost_manager:update_cost:108 - prompt_tokens: 0, completion_tokens: 0\n",
      "2025-01-24 10:52:42.166 | INFO     | __main__:_act:40 - teacher : 学生所作对联已颇具巧思，但可进一步追求典雅与古风。建议如下：\n",
      "\n",
      "上联：金蛇婉转迎春至\n",
      "下联：玉兔轻歌送岁归\n",
      "\n",
      "横批：蛇兔相承春永驻\n",
      "\n",
      "改动之处在于“婉转”与“轻歌”更添几分古雅之气，“相承”与“永驻”亦使横批更显庄重与深远。\n",
      "2025-01-24 10:52:42.169 | INFO     | __main__:_act:12 - xiaoming(Student): ready to WritePoem\n"
     ]
    },
    {
     "name": "stdout",
     "output_type": "stream",
     "text": [
      "上联：金蛇婉转迎春至  \n",
      "下联：玉兔轻歌送岁归  \n",
      "\n",
      "横批：蛇兔相承春永"
     ]
    },
    {
     "name": "stderr",
     "output_type": "stream",
     "text": [
      "2025-01-24 10:52:42.978 | WARNING  | metagpt.provider.openai_api:_calc_usage:244 - usage calculation failed: num_tokens_from_messages() is not implemented for model Qwen2.5-32B-Instruct-AWQ. See https://cookbook.openai.com/examples/how_to_count_tokens_with_tiktoken for information on how messages are converted to tokens.\n",
      "2025-01-24 10:52:42.978 | INFO     | metagpt.utils.cost_manager:update_cost:108 - prompt_tokens: 0, completion_tokens: 0\n",
      "2025-01-24 10:52:42.979 | INFO     | __main__:_act:18 - student : 上联：金蛇婉转迎春至  \n",
      "下联：玉兔轻歌送岁归  \n",
      "\n",
      "横批：蛇兔相承春永驻\n"
     ]
    },
    {
     "name": "stdout",
     "output_type": "stream",
     "text": [
      "驻\n",
      "Warning: model not found. Using cl100k_base encoding.\n"
     ]
    },
    {
     "data": {
      "text/plain": [
       "\"\\nHuman: wirte a poem about moon\\nStudent: Beneath the cloak of night's deep shade,\\nThe moon ascends, in silver made.\\nA queen of shadows, softly cast,\\nShe rules the night from her throne so vast.\\n\\nHer light, a whisper in the dark,\\nGuides the wanderer with a gentle arc.\\nA beacon to the lost and lone,\\nShe shines, a guiding light, her own.\\n\\nIn her glow, the world is hushed,\\nA tranquil scene, a peaceful plush.\\nThe moon, a silent, watchful eye,\\nThrough eons past, she never lies.\\n\\nFrom full to crescent, she transforms,\\nA cycle ancient, never deforms.\\nIn her phases, we find our fate,\\nA constant in the changing state.\\n\\nSo here's to thee, oh moon so bright,\\nA symbol of the endless night.\\nThy light, a mystery, a dream,\\nIn thy glow, all fears seem to seem.\\nTeacher: The poem captures the moon's mystique well, yet a more retro style could enhance its elegance. Consider these revisions:\\n\\nBeneath the night's deep, shadowed veil,\\nThe silver moon doth rise and sail.\\nA shadow's queen, in soft light cast,\\nShe rules the night from her throne so vast.\\n\\nHer light, a whisper in the dark,\\nGuides wanderers with a gentle arc.\\nA beacon to the lone and lost,\\nShe shines, a guiding light, her host.\\n\\nIn her glow, the world is hushed,\\nA tranquil scene, a peaceful plush.\\nThe moon, a silent, watchful eye,\\nThrough eons past, she never lies.\\n\\nFrom full to crescent, she transforms,\\nA cycle ancient, never deforms.\\nIn her phases, we find our fate,\\nA constant in the changing state.\\n\\nSo here's to thee, oh moon so bright,\\nA symbol of the endless night.\\nThy light, a mystery, a dream,\\nIn thy glow, all fears seem to seem.\\nStudent: Beneath the night's deep, shadowed veil,\\nThe silver moon doth rise and sail.\\nA shadow's queen, in soft light cast,\\nShe rules the night from her throne so vast.\\n\\nHer light, a whisper in the dark,\\nGuides wanderers with a gentle arc.\\nA beacon to the lone and lost,\\nShe shines, a guiding light, her host.\\n\\nIn her glow, the world is hushed,\\nA tranquil scene, a peaceful plush.\\nThe moon, a silent, watchful eye,\\nThrough eons past, she never lies.\\n\\nFrom full to crescent, she transforms,\\nA cycle ancient, never deforms.\\nIn her phases, we find our fate,\\nA constant in the changing state.\\n\\nSo here's to thee, oh moon so bright,\\nA symbol of the endless night.\\nThy light, a mystery, a dream,\\nIn thy glow, all fears seem to seem.\\nHuman: 写一副春节对联\\nStudent: 上联：金猪拱门春意浓  \\n下联：玉鼠送福喜气盈  \\n横批：新春快乐\\nTeacher: 学生所作对联已具新春喜庆之意，但若追求更为典雅古朴的风格，可考虑如下修改：\\n\\n上联：金豕献瑞春盈室  \\n下联：玉鼠迎祥福满门  \\n横批：新春纳福\\n\\n此版本中，“金豕”与“玉鼠”更显古风，“献瑞”与“迎祥”亦增添几分文雅，整体更显庄重与祝福之意。\\nStudent: 金豕献瑞春盈室  \\n玉鼠迎祥福满门  \\n红烛映辉团圆夜  \\n笑语欢声乐无垠  \\n新春纳福家国安  \\n岁月静好梦常新\\nHuman: 写一副2025农历蛇年春节对联\\nStudent: 上联：金蛇狂舞迎春至\\n下联：玉兔欢歌送岁归\\n横批：蛇年吉祥\\nTeacher: 学生所作对联已具新春喜庆之意，但可更添古雅之风。建议如下：\\n\\n上联：金蛇曼舞迎春至\\n下联：玉兔轻歌送岁归\\n横批：蛇年祥瑞\\n\\n改动之处在于将“狂舞”改为“曼舞”，“欢歌”改为“轻歌”，以求诗句更为温婉雅致，更符合传统新春对联的风格。\\nStudent: 金蛇曼舞迎春至  \\n玉兔轻歌送岁归  \\n瑞气盈门生喜气  \\n祥云绕户报佳期  \\n\\n蛇年祥瑞福满门  \\n春风送暖意融融  \\n家国安康人长久  \\n岁月静好梦常同\\nHuman: 写一副2025年农历蛇年春节对联\\nStudent: 上联：金蛇狂舞迎春至  \\n下联：玉兔欢歌送岁归  \\n\\n横批：蛇兔交替春常在\\nTeacher: 学生所作对联已颇具巧思，但可进一步追求典雅与古风。建议如下：\\n\\n上联：金蛇婉转迎春至\\n下联：玉兔轻歌送岁归\\n\\n横批：蛇兔相承春永驻\\n\\n改动之处在于“婉转”与“轻歌”更添几分古雅之气，“相承”与“永驻”亦使横批更显庄重与深远。\\nStudent: 上联：金蛇婉转迎春至  \\n下联：玉兔轻歌送岁归  \\n\\n横批：蛇兔相承春永驻\""
      ]
     },
     "execution_count": 8,
     "metadata": {},
     "output_type": "execute_result"
    }
   ],
   "source": [
    "async def main(topic: str, n_round=3):\n",
    "\n",
    "    classroom.add_roles([Student(), Teacher()])\n",
    "\n",
    "    classroom.publish_message(\n",
    "        Message(role=\"Human\", content=topic, cause_by=UserRequirement,\n",
    "                send_to='' or MESSAGE_ROUTE_TO_ALL),\n",
    "        peekable=False,\n",
    "    )\n",
    "\n",
    "    while n_round > 0:\n",
    "        # self._save()\n",
    "        n_round -= 1 #如果n_round = 1 ，就只有学生写诗、然后老师没办法进行review\n",
    "        logger.debug(f\"max {n_round=} left.\")\n",
    "\n",
    "        await classroom.run()\n",
    "    return classroom.history\n",
    "\n",
    "await main(topic='写一副2025年农历蛇年春节对联')"
   ]
  }
 ],
 "metadata": {
  "kernelspec": {
   "display_name": "wow-agent",
   "language": "python",
   "name": "python3"
  },
  "language_info": {
   "codemirror_mode": {
    "name": "ipython",
    "version": 3
   },
   "file_extension": ".py",
   "mimetype": "text/x-python",
   "name": "python",
   "nbconvert_exporter": "python",
   "pygments_lexer": "ipython3",
   "version": "3.11.11"
  }
 },
 "nbformat": 4,
 "nbformat_minor": 2
}
