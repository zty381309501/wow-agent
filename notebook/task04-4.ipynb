{
 "cells": [
  {
   "cell_type": "code",
   "execution_count": 1,
   "metadata": {},
   "outputs": [
    {
     "name": "stderr",
     "output_type": "stream",
     "text": [
      "2025-01-23 19:28:01.173 | INFO     | metagpt.const:get_metagpt_package_root:29 - Package root set to e:\\wow-agent\\notebook\n"
     ]
    }
   ],
   "source": [
    "# SimpleWriteCode 这个类与上一节一模一样\n",
    "\n",
    "from metagpt.actions import Action\n",
    "\n",
    "class SimpleWriteCode(Action):\n",
    "    PROMPT_TEMPLATE: str = \"\"\"\n",
    "    Write a python function that can {instruction} and provide two runnnable test cases.\n",
    "    Return ```python your_code_here ```with NO other texts,\n",
    "    your code:\n",
    "    \"\"\"\n",
    "\n",
    "    name: str = \"SimpleWriteCode\"\n",
    "\n",
    "    async def run(self, instruction: str):\n",
    "        prompt = self.PROMPT_TEMPLATE.format(instruction=instruction)\n",
    "\n",
    "        rsp = await self._aask(prompt)\n",
    "\n",
    "        code_text = SimpleWriteCode.parse_code(rsp)\n",
    "\n",
    "        return code_text\n",
    "\n",
    "    @staticmethod\n",
    "    def parse_code(rsp):\n",
    "        pattern = r\"```python(.*)```\"\n",
    "        match = re.search(pattern, rsp, re.DOTALL)\n",
    "        code_text = match.group(1) if match else rsp\n",
    "        return code_text"
   ]
  },
  {
   "cell_type": "code",
   "execution_count": 2,
   "metadata": {},
   "outputs": [],
   "source": [
    "# 本节新增了SimpleRunCode这个类\n",
    "class SimpleRunCode(Action):\n",
    "    name: str = \"SimpleRunCode\"\n",
    "\n",
    "    async def run(self, code_text: str):\n",
    "        result = subprocess.run([\"python\", \"-c\", code_text], capture_output=True, text=True)\n",
    "        code_result = result.stdout\n",
    "        logger.info(f\"{code_result=}\")\n",
    "        return code_result"
   ]
  },
  {
   "cell_type": "code",
   "execution_count": 3,
   "metadata": {},
   "outputs": [],
   "source": [
    "import re\n",
    "import os\n",
    "import subprocess\n",
    "from metagpt.roles import Role\n",
    "from metagpt.schema import Message\n",
    "from metagpt.logs import logger\n",
    "class RunnableCoder(Role):\n",
    "    name: str = \"Alice\"\n",
    "    profile: str = \"RunnableCoder\"\n",
    "\n",
    "    def __init__(self, **kwargs):\n",
    "        super().__init__(**kwargs)\n",
    "        self.set_actions([SimpleWriteCode, SimpleRunCode])\n",
    "        self._set_react_mode(react_mode=\"by_order\")\n",
    "\n",
    "    async def _act(self) -> Message:\n",
    "        logger.info(f\"{self._setting}: to do {self.rc.todo}({self.rc.todo.name})\")\n",
    "        # By choosing the Action by order under the hood\n",
    "        # todo will be first SimpleWriteCode() then SimpleRunCode()\n",
    "        todo = self.rc.todo\n",
    "\n",
    "        msg = self.get_memories(k=1)[0]  # find the most k recent messages\n",
    "        result = await todo.run(msg.content)\n",
    "\n",
    "        msg = Message(content=result, role=self.profile, cause_by=type(todo))\n",
    "        self.rc.memory.add(msg)\n",
    "        return msg"
   ]
  },
  {
   "cell_type": "code",
   "execution_count": 4,
   "metadata": {},
   "outputs": [
    {
     "name": "stderr",
     "output_type": "stream",
     "text": [
      "2025-01-23 19:28:31.277 | INFO     | __main__:main:4 - write a function that calculates the sum of a list\n",
      "2025-01-23 19:28:31.279 | INFO     | __main__:_act:17 - Alice(RunnableCoder): to do SimpleWriteCode(SimpleWriteCode)\n"
     ]
    },
    {
     "name": "stdout",
     "output_type": "stream",
     "text": [
      "```python\n",
      "def sum_list(numbers):\n",
      "    return sum(numbers)\n",
      "\n",
      "# Test case 1\n",
      "assert sum_list([1, 2, 3, 4, 5]) == 15, \"Test case 1 failed\"\n",
      "\n",
      "# Test case 2\n",
      "assert sum_list([-1, -2, -3, -4, -5]) == -15, \"Test case 2 failed\"\n",
      "\n",
      "print(\"All test cases passed!\")\n",
      "```\n",
      "Warning: model not found. Using cl100k_base encoding.\n"
     ]
    },
    {
     "name": "stderr",
     "output_type": "stream",
     "text": [
      "2025-01-23 19:28:33.015 | WARNING  | metagpt.provider.openai_api:_calc_usage:244 - usage calculation failed: num_tokens_from_messages() is not implemented for model Qwen2.5-32B-Instruct-AWQ. See https://cookbook.openai.com/examples/how_to_count_tokens_with_tiktoken for information on how messages are converted to tokens.\n",
      "2025-01-23 19:28:33.017 | INFO     | __main__:_act:17 - Alice(RunnableCoder): to do SimpleRunCode(SimpleRunCode)\n",
      "2025-01-23 19:28:33.075 | INFO     | __main__:run:8 - code_result='All test cases passed!\\n'\n",
      "2025-01-23 19:28:33.076 | INFO     | __main__:main:6 - RunnableCoder: All test cases passed!\n",
      "\n"
     ]
    },
    {
     "name": "stdout",
     "output_type": "stream",
     "text": [
      "RunnableCoder: All test cases passed!\n",
      "\n"
     ]
    }
   ],
   "source": [
    "async def main():\n",
    "    msg = \"write a function that calculates the sum of a list\"\n",
    "    role = RunnableCoder()\n",
    "    logger.info(msg)\n",
    "    result = await role.run(msg)\n",
    "    logger.info(result)\n",
    "    return result\n",
    "\n",
    "rtn = await main()\n",
    "print(rtn)"
   ]
  }
 ],
 "metadata": {
  "kernelspec": {
   "display_name": "wow-agent",
   "language": "python",
   "name": "python3"
  },
  "language_info": {
   "codemirror_mode": {
    "name": "ipython",
    "version": 3
   },
   "file_extension": ".py",
   "mimetype": "text/x-python",
   "name": "python",
   "nbconvert_exporter": "python",
   "pygments_lexer": "ipython3",
   "version": "3.11.11"
  }
 },
 "nbformat": 4,
 "nbformat_minor": 2
}
