{
 "cells": [
  {
   "cell_type": "code",
   "execution_count": null,
   "metadata": {},
   "outputs": [],
   "source": [
    "# 可导入任何角色，初始化它，用一个开始的消息运行它，完成！\n",
    "from metagpt.roles.product_manager import ProductManager\n",
    "prompt = f\"\"\"\n",
    "# Role：软件开发团队\n",
    "\n",
    "## Background :\n",
    "\n",
    "我是一个软件开发团队。\n",
    "现在要用html、js、css、flask开发一个刷题程序。\n",
    "刷题可以让人们对题目中涉及的知识点有更深的掌握。\n",
    "\n",
    "## Profile:\n",
    "- author: 黎伟\n",
    "- version: 0.1\n",
    "- language: 中文\n",
    "- description: 我是一软件开发团队。\n",
    "\n",
    "## Goals:\n",
    "- 用html、js、css、flask开发一个刷题程序。\n",
    "\n",
    "## Constrains:\n",
    "1. 最后交付的程序是一个html单文件，不要有其他任何文件。\n",
    "2. 题目的题型至少包括判断题、选择题、填空题。\n",
    "3. 题目的内容与人工智能的agent基本理论相关。\n",
    "4. 刷题程序至少给出10道样例题目。\n",
    "5. 题目用列表的形式写到html文件的script部分。\n",
    "6. 后端使用flask。\n",
    "7. 不用数据库，pandas后台存储和处理数据，存储了10个判断题、10道选择题、2道填空题。\n",
    "8. 每次答题随机出3道题目。\n",
    "9. 用户可以提交他的答题情况，并对答题情况进行判断是否正确。\n",
    "\n",
    "## Skills:\n",
    "1. 具有强大的js语言开发能力\n",
    "2. 熟悉css、html、pandas的使用\n",
    "3. 对人工智能的agent基本理论有较好理解\n",
    "4. 拥有排版审美, 会利用序号, 缩进, 分隔线和换行符等等来美化信息排版\n",
    "5. 界面酷炫,蓝色和黄色搭配色调,操作要有过渡动画和科幻效果\n",
    "\n",
    "\n",
    "请结合上述要求完善刷题程序的开发需求文档，并完成开发。\n",
    "\n",
    "\"\"\"\n",
    "# async def main():\n",
    "#     role = ProductManager()\n",
    "#     result = await role.run(prompt)\n",
    "#     # print(result)\n",
    "    \n",
    "# await main()"
   ]
  },
  {
   "cell_type": "code",
   "execution_count": null,
   "metadata": {},
   "outputs": [],
   "source": [
    "import asyncio\n",
    "from metagpt.roles import (\n",
    "    Architect,\n",
    "    Engineer,\n",
    "    ProductManager,\n",
    "    ProjectManager,\n",
    "    QaEngineer,\n",
    ")\n",
    "from metagpt.team import Team\n",
    "async def startup(idea: str):\n",
    "    company = Team()\n",
    "    company.hire(\n",
    "        [\n",
    "            ProductManager(),\n",
    "            Architect(),\n",
    "            ProjectManager(),\n",
    "            Engineer(),\n",
    "            QaEngineer()\n",
    "\n",
    "        ]\n",
    "    )\n",
    "    company.invest(investment=1000.0)\n",
    "    company.run_project(idea=idea)\n",
    "\n",
    "    await company.run(n_round=1000)\n",
    "\n",
    "await startup(idea=prompt)"
   ]
  },
  {
   "cell_type": "code",
   "execution_count": 3,
   "metadata": {},
   "outputs": [],
   "source": [
    "prompt = f\"\"\"\n",
    "# Role：软件开发团队\n",
    "\n",
    "## Background :\n",
    "\n",
    "我是一个软件开发团队。\n",
    "现在要用html、js、css、flask开发一个即使通讯软件。\n",
    "刷题可以让人们对题目中涉及的知识点有更深的掌握。\n",
    "\n",
    "## Profile:\n",
    "- author: 黎伟\n",
    "- version: 0.1\n",
    "- language: 中文\n",
    "- description: 我是一软件开发团队。\n",
    "\n",
    "## Goals:\n",
    "- 用html、js、css、flask开发一个刷题程序。\n",
    "\n",
    "## Constrains:\n",
    "1. 最后交付的程序是一个html单文件，不要有其他任何文件。\n",
    "2. 类似钉钉的样子。\n",
    "3. 可以私聊、群聊。\n",
    "4. 采用左中右布局，左侧是功能菜单，中间是左侧点击后的功能页面或者是聊天组队列，右侧是中间点击具体聊天组的聊天界面。\n",
    "5. 用列表的形式写到html文件的script部分。\n",
    "6. 后端使用flask。\n",
    "7. 不用数据库，pandas后台存储和处理数据和转发消息。\n",
    "\n",
    "\n",
    "## Skills:\n",
    "1. 具有强大的js语言开发能力\n",
    "2. 熟悉css、html、pandas的使用\n",
    "3. 对即使通讯软件的开发有较好理解\n",
    "4. 拥有排版审美, 会利用序号, 缩进, 分隔线和换行符等等来美化信息排版\n",
    "5. 界面酷炫,蓝色和黄色搭配色调,操作要有过渡动画和科幻效果\n",
    "\n",
    "\n",
    "请结合上述要求完善刷题程序的开发需求文档，并完成开发。\n",
    "\n",
    "\"\"\""
   ]
  },
  {
   "cell_type": "code",
   "execution_count": null,
   "metadata": {},
   "outputs": [],
   "source": [
    "\n",
    "await startup(idea=prompt)"
   ]
  },
  {
   "cell_type": "code",
   "execution_count": 1,
   "metadata": {},
   "outputs": [
    {
     "name": "stderr",
     "output_type": "stream",
     "text": [
      "2025-01-23 15:43:17.350 | INFO     | metagpt.const:get_metagpt_package_root:29 - Package root set to e:\\wow-agent\\notebook\n"
     ]
    }
   ],
   "source": [
    "from metagpt.actions import Action\n",
    "\n",
    "class SimpleWriteCode(Action):\n",
    "    PROMPT_TEMPLATE: str = \"\"\"\n",
    "    Write a python function that can {instruction} and provide two runnnable test cases.\n",
    "    Return ```python your_code_here ```with NO other texts,\n",
    "    your code:\n",
    "    \"\"\"\n",
    "\n",
    "    name: str = \"SimpleWriteCode\"\n",
    "\n",
    "    async def run(self, instruction: str):\n",
    "        prompt = self.PROMPT_TEMPLATE.format(instruction=instruction)\n",
    "\n",
    "        rsp = await self._aask(prompt)\n",
    "\n",
    "        code_text = SimpleWriteCode.parse_code(rsp)\n",
    "\n",
    "        return code_text\n",
    "\n",
    "    @staticmethod\n",
    "    def parse_code(rsp):\n",
    "        pattern = r\"```python(.*)```\"\n",
    "        match = re.search(pattern, rsp, re.DOTALL)\n",
    "        code_text = match.group(1) if match else rsp\n",
    "        return code_text"
   ]
  },
  {
   "cell_type": "code",
   "execution_count": 2,
   "metadata": {},
   "outputs": [],
   "source": [
    "import re\n",
    "import os\n",
    "from metagpt.roles import Role\n",
    "from metagpt.schema import Message\n",
    "from metagpt.logs import logger\n",
    "\n",
    "class SimpleCoder(Role):\n",
    "    name: str = \"Alice\"\n",
    "    profile: str = \"SimpleCoder\"\n",
    "\n",
    "    def __init__(self, **kwargs):\n",
    "        super().__init__(**kwargs)\n",
    "        self.set_actions([SimpleWriteCode])\n",
    "\n",
    "    async def _act(self) -> Message:\n",
    "        logger.info(f\"{self._setting}: to do {self.rc.todo}({self.rc.todo.name})\")\n",
    "        todo = self.rc.todo  # todo will be SimpleWriteCode()\n",
    "\n",
    "        msg = self.get_memories(k=1)[0]  # find the most recent messages\n",
    "        code_text = await todo.run(msg.content)\n",
    "        msg = Message(content=code_text, role=self.profile, cause_by=type(todo))\n",
    "\n",
    "        return msg"
   ]
  },
  {
   "cell_type": "code",
   "execution_count": 3,
   "metadata": {},
   "outputs": [
    {
     "name": "stderr",
     "output_type": "stream",
     "text": [
      "2025-01-23 15:43:26.473 | INFO     | __main__:main:4 - write a function that calculates the sum of a list\n",
      "2025-01-23 15:43:26.475 | INFO     | __main__:_act:16 - Alice(SimpleCoder): to do SimpleWriteCode(SimpleWriteCode)\n"
     ]
    },
    {
     "name": "stdout",
     "output_type": "stream",
     "text": [
      "```python\n",
      "def sum_list(numbers):\n",
      "    return sum(numbers)\n",
      "\n",
      "# Test case 1\n",
      "assert sum_list([1, 2, 3, 4, 5]) == 15, \"Test case 1 failed\"\n",
      "\n",
      "# Test case 2\n",
      "assert sum_list([-1, -2, -3, -4, -5]) == -15, \"Test case 2 failed\"\n",
      "\n",
      "print(\"All test cases passed!\")\n",
      "```\n",
      "Warning: model not found. Using cl100k_base encoding.\n"
     ]
    },
    {
     "name": "stderr",
     "output_type": "stream",
     "text": [
      "2025-01-23 15:43:28.242 | WARNING  | metagpt.provider.openai_api:_calc_usage:244 - usage calculation failed: num_tokens_from_messages() is not implemented for model Qwen2.5-32B-Instruct-AWQ. See https://cookbook.openai.com/examples/how_to_count_tokens_with_tiktoken for information on how messages are converted to tokens.\n",
      "2025-01-23 15:43:28.243 | INFO     | __main__:main:6 - SimpleCoder: \n",
      "def sum_list(numbers):\n",
      "    return sum(numbers)\n",
      "\n",
      "# Test case 1\n",
      "assert sum_list([1, 2, 3, 4, 5]) == 15, \"Test case 1 failed\"\n",
      "\n",
      "# Test case 2\n",
      "assert sum_list([-1, -2, -3, -4, -5]) == -15, \"Test case 2 failed\"\n",
      "\n",
      "print(\"All test cases passed!\")\n",
      "\n"
     ]
    }
   ],
   "source": [
    "async def main():\n",
    "    msg = \"write a function that calculates the sum of a list\"\n",
    "    role = SimpleCoder()\n",
    "    logger.info(msg)\n",
    "    result = await role.run(msg)\n",
    "    logger.info(result)\n",
    "    return result\n",
    "    \n",
    "        \n",
    "rtn = await main()"
   ]
  },
  {
   "cell_type": "code",
   "execution_count": 4,
   "metadata": {},
   "outputs": [
    {
     "name": "stdout",
     "output_type": "stream",
     "text": [
      "All test cases passed!\n"
     ]
    }
   ],
   "source": [
    "def sum_list(numbers):\n",
    "    return sum(numbers)\n",
    "\n",
    "# Test case 1\n",
    "assert sum_list([1, 2, 3, 4, 5]) == 15, \"Test case 1 failed\"\n",
    "\n",
    "# Test case 2\n",
    "assert sum_list([-1, -2, -3, -4, -5]) == -15, \"Test case 2 failed\"\n",
    "\n",
    "print(\"All test cases passed!\")"
   ]
  },
  {
   "cell_type": "code",
   "execution_count": 5,
   "metadata": {},
   "outputs": [
    {
     "name": "stdout",
     "output_type": "stream",
     "text": [
      "All test cases passed!\n"
     ]
    }
   ],
   "source": [
    "def sum_list(numbers):\n",
    "    return sum(numbers)\n",
    "\n",
    "# Test case 1\n",
    "assert sum_list([1, 2, 3, 4, 5]) == 15, \"Test case 1 failed\"\n",
    "\n",
    "# Test case 2\n",
    "assert sum_list([-1, -2, -3, -4, -5]) == -15, \"Test case 2 failed\"\n",
    "\n",
    "print(\"All test cases passed!\")"
   ]
  }
 ],
 "metadata": {
  "kernelspec": {
   "display_name": "wow-agent",
   "language": "python",
   "name": "python3"
  },
  "language_info": {
   "codemirror_mode": {
    "name": "ipython",
    "version": 3
   },
   "file_extension": ".py",
   "mimetype": "text/x-python",
   "name": "python",
   "nbconvert_exporter": "python",
   "pygments_lexer": "ipython3",
   "version": "3.11.11"
  }
 },
 "nbformat": 4,
 "nbformat_minor": 2
}
