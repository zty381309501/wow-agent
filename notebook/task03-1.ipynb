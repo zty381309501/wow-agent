{
 "cells": [
  {
   "cell_type": "code",
   "execution_count": 1,
   "metadata": {},
   "outputs": [],
   "source": [
    "import os\n",
    "from dotenv import load_dotenv\n",
    "\n",
    "# 加载环境变量\n",
    "load_dotenv()\n",
    "# 从环境变量中读取api_key\n",
    "api_key = os.getenv('ZISHU_API_KEY')\n",
    "base_url = \"http://43.200.7.56:8008/v1\"\n",
    "chat_model = \"glm-4-flash\"\n",
    "\n"
   ]
  },
  {
   "cell_type": "code",
   "execution_count": null,
   "metadata": {},
   "outputs": [
    {
     "name": "stdout",
     "output_type": "stream",
     "text": [
      "../\n"
     ]
    }
   ],
   "source": [
    "import sys\n",
    "import os\n",
    "\n",
    "# 将项目根目录添加到 sys.path\n",
    "project_path = \"../\"\n",
    "if project_path not in sys.path:\n",
    "    # print(project_path)\n",
    "    sys.path.append(project_path)\n",
    "\n"
   ]
  },
  {
   "cell_type": "code",
   "execution_count": 3,
   "metadata": {},
   "outputs": [
    {
     "name": "stdout",
     "output_type": "stream",
     "text": [
      "我是一个人工智能助手，名叫 ChatGLM，是基于清华大学 KEG 实验室和智谱 AI 公司于 2024 年共同训练的语言模型开发的。我的任务是针对用户的问题和要求提供适当的答复和支持。\n"
     ]
    }
   ],
   "source": [
    "from typing import List\n",
    "from zigent.agents import ABCAgent, BaseAgent\n",
    "from zigent.llm.agent_llms import LLM\n",
    "from zigent.commons import TaskPackage\n",
    "from zigent.actions.BaseAction import BaseAction\n",
    "from zigent.logging.multi_agent_log import AgentLogger\n",
    "from duckduckgo_search import DDGS\n",
    "\n",
    "llm = LLM(api_key=api_key, base_url=base_url, model_name=chat_model)\n",
    "response = llm.run(\"你是谁？\")\n",
    "print(response)"
   ]
  },
  {
   "cell_type": "code",
   "execution_count": 11,
   "metadata": {},
   "outputs": [],
   "source": [
    "# 假设 BaseAction 是一个基类，定义了 action_name, action_desc, params_doc 等属性\n",
    "class BaseAction:\n",
    "    def __init__(self, action_name, action_desc, params_doc):\n",
    "        self.action_name = action_name\n",
    "        self.action_desc = action_desc\n",
    "        self.params_doc = params_doc\n",
    "\n",
    "\n",
    "class DuckSearchAction(BaseAction):\n",
    "    def __init__(self, proxy=None) -> None:\n",
    "        action_name = \"DuckDuckGo_Search\"\n",
    "        action_desc = \"Using this action to search online content.\"\n",
    "        params_doc = {\"query\": \"the search string. be simple.\"}\n",
    "        \n",
    "        # 初始化 DDGS 并配置代理\n",
    "        self.ddgs = DDGS(proxy=proxy)\n",
    "        \n",
    "        super().__init__(\n",
    "            action_name=action_name, \n",
    "            action_desc=action_desc, \n",
    "            params_doc=params_doc,\n",
    "        )\n",
    "\n",
    "    def __call__(self, query):\n",
    "        try:\n",
    "            # 使用 text 方法进行搜索\n",
    "            results = self.ddgs.text(query)\n",
    "            return results\n",
    "        except Exception as e:\n",
    "            # 错误处理\n",
    "            print(f\"Search failed: {e}\")\n",
    "            return []\n"
   ]
  },
  {
   "cell_type": "code",
   "execution_count": 26,
   "metadata": {},
   "outputs": [
    {
     "name": "stdout",
     "output_type": "stream",
     "text": [
      "Search failed: https://html.duckduckgo.com/html RuntimeError: error sending request for url (https://html.duckduckgo.com/html): client error (Connect)\n",
      "\n",
      "Caused by:\n",
      "    0: client error (Connect)\n",
      "    1: 远程主机强迫关闭了一个现有的连接。 (os error 10054)\n",
      "\n",
      "Results with proxy:\n"
     ]
    }
   ],
   "source": [
    "#     # 示例 1: 不使用代理\n",
    "# search_action = DuckSearchAction()\n",
    "# results = search_action(\"Python programming\")\n",
    "# print(\"Results without proxy:\")\n",
    "# for result in results:\n",
    "#     print(result)\n",
    "\n",
    "# 示例 2: 使用代理\n",
    "proxy = {\n",
    "    \"http\": \"http://61.79.73.225:80\",  # 替换为你的代理地址和端口\n",
    "    \"https\": \"https://61.79.73.225:80\",  # 替换为你的代理地址和端口\n",
    "}\n",
    "\n",
    "search_action_with_proxy = DuckSearchAction(proxy=proxy[\"http\"])\n",
    "results_with_proxy = search_action_with_proxy(\"Python programming\")\n",
    "print(\"\\nResults with proxy:\")\n",
    "for result in results_with_proxy:\n",
    "    print(result)"
   ]
  },
  {
   "cell_type": "code",
   "execution_count": 19,
   "metadata": {},
   "outputs": [
    {
     "name": "stdout",
     "output_type": "stream",
     "text": [
      "Search failed: https://lite.duckduckgo.com/lite/ RuntimeError: error sending request for url (https://lite.duckduckgo.com/lite/): operation timed out\n",
      "\n",
      "Caused by:\n",
      "    operation timed out\n",
      "[]\n"
     ]
    }
   ],
   "source": [
    "search_action = DuckSearchAction()\n",
    "results = search_action(\"什么是 agent\")\n",
    "print(results)"
   ]
  },
  {
   "cell_type": "code",
   "execution_count": null,
   "metadata": {},
   "outputs": [],
   "source": [
    "class DuckSearchAgent(BaseAgent):\n",
    "    def __init__(\n",
    "        self,\n",
    "        llm: LLM,\n",
    "        actions: List[BaseAction] = [DuckSearchAction()],\n",
    "        manager: ABCAgent = None,\n",
    "        **kwargs\n",
    "    ):\n",
    "        name = \"duck_search_agent\"\n",
    "        role = \"You can answer questions by using duck duck go search content.\"\n",
    "        super().__init__(\n",
    "            name=name,\n",
    "            role=role,\n",
    "            llm=llm,\n",
    "            actions=actions,\n",
    "            manager=manager,\n",
    "            logger=agent_logger,\n",
    "        )"
   ]
  },
  {
   "cell_type": "code",
   "execution_count": null,
   "metadata": {},
   "outputs": [],
   "source": [
    "def do_search_agent():\n",
    "    # 创建代理实例\n",
    "    search_agent = DuckSearchAgent(llm=llm)\n",
    "\n",
    "    # 创建任务\n",
    "    task = \"what is the found date of microsoft\"\n",
    "    task_pack = TaskPackage(instruction=task)\n",
    "\n",
    "    # 执行任务并获取响应\n",
    "    response = search_agent(task_pack)\n",
    "    print(\"response:\", response)\n",
    "\n",
    "if __name__ == \"__main__\":\n",
    "    do_search_agent()"
   ]
  },
  {
   "cell_type": "code",
   "execution_count": null,
   "metadata": {},
   "outputs": [],
   "source": [
    "BOCHA_API_KEY = os.getenv('BOCHA_API_KEY')\n",
    "import requests\n",
    "import json\n",
    "# 定义Bocha Web Search工具\n",
    "def bocha_web_search_tool(query: str, count: int = 8) -> str:\n",
    "    \"\"\"\n",
    "    使用Bocha Web Search API进行联网搜索，返回搜索结果的字符串。\n",
    "    \n",
    "    参数:\n",
    "    - query: 搜索关键词\n",
    "    - count: 返回的搜索结果数量\n",
    "\n",
    "    返回:\n",
    "    - 搜索结果的字符串形式\n",
    "    \"\"\"\n",
    "    url = 'https://api.bochaai.com/v1/web-search'\n",
    "    headers = {\n",
    "        'Authorization': f'Bearer {BOCHA_API_KEY}',  # 请替换为你的API密钥\n",
    "        'Content-Type': 'application/json'\n",
    "    }\n",
    "    data = {\n",
    "        \"query\": query,\n",
    "        \"freshness\": \"noLimit\", # 搜索的时间范围，例如 \"oneDay\", \"oneWeek\", \"oneMonth\", \"oneYear\", \"noLimit\"\n",
    "        \"summary\": True, # 是否返回长文本摘要总结\n",
    "        \"count\": count\n",
    "    }\n",
    "\n",
    "    response = requests.post(url, headers=headers, json=data)\n",
    "\n",
    "    if response.status_code == 200:\n",
    "        # 返回给大模型的格式化的搜索结果文本\n",
    "        # 可以自己对博查的搜索结果进行自定义处理\n",
    "        return json.dumps(response.json())\n",
    "    else:\n",
    "        raise Exception(f\"API请求失败，状态码: {response.status_code}, 错误信息: {response.text}\")"
   ]
  },
  {
   "cell_type": "code",
   "execution_count": null,
   "metadata": {},
   "outputs": [],
   "source": [
    "class BochaSearchAction(BaseAction):\n",
    "    def __init__(self) -> None:\n",
    "        action_name = \"Bocha_Search\"\n",
    "        action_desc = \"Using this action to search online content.\"\n",
    "        params_doc = {\"query\": \"the search string. be simple.\"}\n",
    "        super().__init__(\n",
    "            action_name=action_name, \n",
    "            action_desc=action_desc, \n",
    "            params_doc=params_doc,\n",
    "        )\n",
    "\n",
    "    def __call__(self, query):\n",
    "        results = bocha_web_search_tool(query)\n",
    "        rst = json.loads(results)\n",
    "        result = \"\"\n",
    "        for item in rst[\"data\"][\"webPages\"][\"value\"]:\n",
    "            result += item[\"summary\"]\n",
    "        return result"
   ]
  },
  {
   "cell_type": "code",
   "execution_count": null,
   "metadata": {},
   "outputs": [],
   "source": [
    "search_action = BochaSearchAction()\n",
    "results = search_action(\"上海有哪些私立小学在招聘小学英语老师？\")\n",
    "print(results)"
   ]
  },
  {
   "cell_type": "code",
   "execution_count": null,
   "metadata": {},
   "outputs": [],
   "source": [
    "search_action = BochaSearchAction()\n",
    "class BochaSearchAgent(BaseAgent):\n",
    "    def __init__(\n",
    "        self,\n",
    "        llm: LLM,\n",
    "        actions: List[BaseAction] = [search_action],\n",
    "        manager: ABCAgent = None,\n",
    "        **kwargs\n",
    "    ):\n",
    "        name = \"bocha_search_agent\"\n",
    "        role = \"You can answer questions by using bocha search content.\"\n",
    "        super().__init__(\n",
    "            name=name,\n",
    "            role=role,\n",
    "            llm=llm,\n",
    "            actions=actions,\n",
    "            manager=manager,\n",
    "        )"
   ]
  },
  {
   "cell_type": "code",
   "execution_count": null,
   "metadata": {},
   "outputs": [],
   "source": [
    "def do_search_agent():\n",
    "    # 创建代理实例\n",
    "    search_agent = BochaSearchAgent(llm=llm)\n",
    "\n",
    "    # 创建任务\n",
    "    task = \"what is the found date of microsoft\"\n",
    "    task_pack = TaskPackage(instruction=task)\n",
    "\n",
    "    # 执行任务并获取响应\n",
    "    response = search_agent(task_pack)\n",
    "    print(\"response:\", response)"
   ]
  },
  {
   "cell_type": "code",
   "execution_count": null,
   "metadata": {},
   "outputs": [],
   "source": [
    "do_search_agent()"
   ]
  }
 ],
 "metadata": {
  "kernelspec": {
   "display_name": "wow-agent",
   "language": "python",
   "name": "python3"
  },
  "language_info": {
   "codemirror_mode": {
    "name": "ipython",
    "version": 3
   },
   "file_extension": ".py",
   "mimetype": "text/x-python",
   "name": "python",
   "nbconvert_exporter": "python",
   "pygments_lexer": "ipython3",
   "version": "3.12.8"
  }
 },
 "nbformat": 4,
 "nbformat_minor": 2
}
